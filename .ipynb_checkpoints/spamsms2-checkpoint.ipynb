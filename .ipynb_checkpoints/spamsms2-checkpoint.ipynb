{
 "cells": [
  {
   "cell_type": "code",
   "execution_count": 1,
   "metadata": {},
   "outputs": [],
   "source": [
    "# Detection of Spam SMS with Naive Bayes and Support Vector Machine"
   ]
  },
  {
   "cell_type": "code",
   "execution_count": null,
   "metadata": {},
   "outputs": [],
   "source": [
    "Contents\n",
    "\n",
    "\n",
    "\n",
    "    Libraries\n",
    "    Exploring the Dataset\n",
    "    Distribution spam and non-spam plots\n",
    "    Text Analytics\n",
    "    Feature Engineering\n",
    "    Predictive analysis (Multinomial Naive Bayes and Support Vector Machines)\n",
    "    Conclusion\n",
    "\n"
   ]
  }
 ],
 "metadata": {
  "kernelspec": {
   "display_name": "Python 3",
   "language": "python",
   "name": "python3"
  },
  "language_info": {
   "codemirror_mode": {
    "name": "ipython",
    "version": 3
   },
   "file_extension": ".py",
   "mimetype": "text/x-python",
   "name": "python",
   "nbconvert_exporter": "python",
   "pygments_lexer": "ipython3",
   "version": "3.6.4"
  }
 },
 "nbformat": 4,
 "nbformat_minor": 2
}
